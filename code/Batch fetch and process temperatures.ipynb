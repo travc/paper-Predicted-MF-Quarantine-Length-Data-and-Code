{
 "cells": [
  {
   "cell_type": "markdown",
   "metadata": {},
   "source": [
    "Extracting hourly temperature data from NOAA ISD (integrated surface database) weather data\n",
    "\n",
    "ish_parser python module is from:\n",
    "https://github.com/haydenth/ish_parser"
   ]
  },
  {
   "cell_type": "code",
   "execution_count": 1,
   "metadata": {
    "collapsed": false
   },
   "outputs": [],
   "source": [
    "# boilerplate includes\n",
    "import sys\n",
    "import os\n",
    "\n",
    "import numpy as np\n",
    "import matplotlib as mpl\n",
    "#mpl.use('nbagg')\n",
    "import matplotlib.pyplot as plt\n",
    "#from mpl_toolkits.mplot3d import Axes3D\n",
    "\n",
    "#import mpld3 # for outputting interactive html figures\n",
    "\n",
    "import pandas as pd\n",
    "import seaborn as sns\n",
    "\n",
    "import ish_parser\n",
    "import gzip\n",
    "import ftplib\n",
    "import io\n",
    "import dateutil\n",
    "\n",
    "from IPython.display import display, HTML\n",
    "%matplotlib notebook\n",
    "plt.style.use('seaborn-notebook')\n",
    "\n",
    "pd.set_option('display.max_columns', None)"
   ]
  },
  {
   "cell_type": "markdown",
   "metadata": {},
   "source": [
    "## Parameters\n",
    "\n",
    "Main parameter is a list of the weather station callsigns"
   ]
  },
  {
   "cell_type": "code",
   "execution_count": 2,
   "metadata": {
    "collapsed": false
   },
   "outputs": [],
   "source": [
    "# PARAMETERS \n",
    "\n",
    "RUNSETS = [ # callsign, timezone, start_date, end_date\n",
    "           ['KSFO','-08:00', '1950-01-01','2016-01-01'],#\n",
    "           ['KFAT','-08:00', '1950-01-01','2016-01-01'],#\n",
    "           ['KJAX','-05:00', '1950-01-01','2016-01-01'],#\n",
    "           ['KBUR','-08:00', '1973-01-01','2016-01-01'],#\n",
    "           ['KIAH','-06:00', '1970-01-01','2016-01-01'],#\n",
    "           ['KLAX','-08:00', '1950-01-01','2016-01-01'],#\n",
    "           ['KMCO','-05:00', '1973-01-01','2016-01-01'],#\n",
    "           ['KRIV','-08:00', '1950-01-01','2016-01-01'],#\n",
    "           ['KTPA','-05:00', '1950-01-01','2016-01-01'],#\n",
    "           ['KSAN','-08:00', '1950-01-01','2016-01-01'],#\n",
    "           ['KMIA','-05:00', '1950-01-01','2016-01-01'],#\n",
    "          ]\n",
    "\n",
    "TEMPERATURE_DATADIR = '../data/temperatures/ISD'\n",
    "TEMPERATURE_OUTDIR = '../data/temperatures'\n",
    "SUPPRESS_FIGURE_DISPLAY = True\n",
    "\n",
    "## parameters used in fetching\n",
    "\n",
    "USE_CACHED_STATION_H5_FILES = True # Don't download new temperature files unless required\n",
    "FTPHOST = 'ftp.ncdc.noaa.gov'\n",
    "FETCH_STATIONS_LIST_FILE = True\n",
    "\n",
    "## parameters used in cleaning\n",
    "\n",
    "TEMP_COL = 'AT' # The label of the hourly temperature column we make/output\n",
    "\n",
    "# Resampling and interpolation parameters\n",
    "# spline order used for converting to on-the-hour and filling small gaps\n",
    "BASE_INTERPOLATION_K = 1 # 1 for linear interpolation\n",
    "# give special treatment to data gaps longer than...\n",
    "POTENTIALLY_PROBLEMATIC_GAP_SIZE = pd.Timedelta('03:00:00')"
   ]
  },
  {
   "cell_type": "markdown",
   "metadata": {},
   "source": [
    "## Loop through all the sites/stations and run the sub-scripts\n",
    "Most of the time is actually consumed saving figure files"
   ]
  },
  {
   "cell_type": "code",
   "execution_count": 3,
   "metadata": {
    "collapsed": false,
    "scrolled": true
   },
   "outputs": [
    {
     "name": "stdout",
     "output_type": "stream",
     "text": [
      "Fetching and parsing  KBUR\n",
      "#### 722880 23152 range(1943, 2018)\n",
      "/pub/data/noaa/1943/722880-23152-1943.gz\n",
      "/pub/data/noaa/1944/722880-23152-1944.gz\n",
      "/pub/data/noaa/1945/722880-23152-1945.gz\n",
      "/pub/data/noaa/1946/722880-23152-1946.gz\n",
      "ERROR: 550 /pub/data/noaa/1946/722880-23152-1946.gz: No such file or directory\n",
      "/pub/data/noaa/1947/722880-23152-1947.gz\n",
      "ERROR: 550 /pub/data/noaa/1947/722880-23152-1947.gz: No such file or directory\n",
      "/pub/data/noaa/1948/722880-23152-1948.gz\n",
      "ERROR: 550 /pub/data/noaa/1948/722880-23152-1948.gz: No such file or directory\n",
      "/pub/data/noaa/1949/722880-23152-1949.gz\n",
      "ERROR: 550 /pub/data/noaa/1949/722880-23152-1949.gz: No such file or directory\n",
      "/pub/data/noaa/1950/722880-23152-1950.gz\n",
      "ERROR: 550 /pub/data/noaa/1950/722880-23152-1950.gz: No such file or directory\n",
      "/pub/data/noaa/1951/722880-23152-1951.gz\n",
      "ERROR: 550 /pub/data/noaa/1951/722880-23152-1951.gz: No such file or directory\n",
      "/pub/data/noaa/1952/722880-23152-1952.gz\n",
      "ERROR: 550 /pub/data/noaa/1952/722880-23152-1952.gz: No such file or directory\n",
      "/pub/data/noaa/1953/722880-23152-1953.gz\n",
      "ERROR: 550 /pub/data/noaa/1953/722880-23152-1953.gz: No such file or directory\n",
      "/pub/data/noaa/1954/722880-23152-1954.gz\n",
      "ERROR: 550 /pub/data/noaa/1954/722880-23152-1954.gz: No such file or directory\n",
      "/pub/data/noaa/1955/722880-23152-1955.gz\n",
      "ERROR: 550 /pub/data/noaa/1955/722880-23152-1955.gz: No such file or directory\n",
      "/pub/data/noaa/1956/722880-23152-1956.gz\n",
      "ERROR: 550 /pub/data/noaa/1956/722880-23152-1956.gz: No such file or directory\n",
      "/pub/data/noaa/1957/722880-23152-1957.gz\n",
      "ERROR: 550 /pub/data/noaa/1957/722880-23152-1957.gz: No such file or directory\n",
      "/pub/data/noaa/1958/722880-23152-1958.gz\n",
      "ERROR: 550 /pub/data/noaa/1958/722880-23152-1958.gz: No such file or directory\n",
      "/pub/data/noaa/1959/722880-23152-1959.gz\n",
      "ERROR: 550 /pub/data/noaa/1959/722880-23152-1959.gz: No such file or directory\n",
      "/pub/data/noaa/1960/722880-23152-1960.gz\n",
      "ERROR: 550 /pub/data/noaa/1960/722880-23152-1960.gz: No such file or directory\n",
      "/pub/data/noaa/1961/722880-23152-1961.gz\n",
      "ERROR: 550 /pub/data/noaa/1961/722880-23152-1961.gz: No such file or directory\n",
      "/pub/data/noaa/1962/722880-23152-1962.gz\n",
      "ERROR: 550 /pub/data/noaa/1962/722880-23152-1962.gz: No such file or directory\n",
      "/pub/data/noaa/1963/722880-23152-1963.gz\n",
      "ERROR: 550 /pub/data/noaa/1963/722880-23152-1963.gz: No such file or directory\n",
      "/pub/data/noaa/1964/722880-23152-1964.gz\n",
      "ERROR: 550 /pub/data/noaa/1964/722880-23152-1964.gz: No such file or directory\n",
      "/pub/data/noaa/1965/722880-23152-1965.gz\n",
      "ERROR: 550 /pub/data/noaa/1965/722880-23152-1965.gz: No such file or directory\n",
      "/pub/data/noaa/1966/722880-23152-1966.gz\n",
      "ERROR: 550 /pub/data/noaa/1966/722880-23152-1966.gz: No such file or directory\n",
      "/pub/data/noaa/1967/722880-23152-1967.gz\n",
      "ERROR: 550 /pub/data/noaa/1967/722880-23152-1967.gz: No such file or directory\n",
      "/pub/data/noaa/1968/722880-23152-1968.gz\n",
      "ERROR: 550 /pub/data/noaa/1968/722880-23152-1968.gz: No such file or directory\n",
      "/pub/data/noaa/1969/722880-23152-1969.gz\n",
      "ERROR: 550 /pub/data/noaa/1969/722880-23152-1969.gz: No such file or directory\n",
      "/pub/data/noaa/1970/722880-23152-1970.gz\n",
      "ERROR: 550 /pub/data/noaa/1970/722880-23152-1970.gz: No such file or directory\n",
      "/pub/data/noaa/1971/722880-23152-1971.gz\n",
      "ERROR: 550 /pub/data/noaa/1971/722880-23152-1971.gz: No such file or directory\n",
      "/pub/data/noaa/1972/722880-23152-1972.gz\n",
      "ERROR: 550 /pub/data/noaa/1972/722880-23152-1972.gz: No such file or directory\n",
      "/pub/data/noaa/1973/722880-23152-1973.gz\n",
      "/pub/data/noaa/1974/722880-23152-1974.gz\n",
      "/pub/data/noaa/1975/722880-23152-1975.gz\n",
      "/pub/data/noaa/1976/722880-23152-1976.gz\n",
      "/pub/data/noaa/1977/722880-23152-1977.gz\n",
      "/pub/data/noaa/1978/722880-23152-1978.gz\n",
      "/pub/data/noaa/1979/722880-23152-1979.gz\n",
      "/pub/data/noaa/1980/722880-23152-1980.gz\n",
      "/pub/data/noaa/1981/722880-23152-1981.gz\n",
      "/pub/data/noaa/1982/722880-23152-1982.gz\n",
      "/pub/data/noaa/1983/722880-23152-1983.gz\n",
      "/pub/data/noaa/1984/722880-23152-1984.gz\n",
      "/pub/data/noaa/1985/722880-23152-1985.gz\n",
      "/pub/data/noaa/1986/722880-23152-1986.gz\n",
      "/pub/data/noaa/1987/722880-23152-1987.gz\n",
      "/pub/data/noaa/1988/722880-23152-1988.gz\n",
      "/pub/data/noaa/1989/722880-23152-1989.gz\n",
      "/pub/data/noaa/1990/722880-23152-1990.gz\n",
      "/pub/data/noaa/1991/722880-23152-1991.gz\n",
      "/pub/data/noaa/1992/722880-23152-1992.gz\n",
      "/pub/data/noaa/1993/722880-23152-1993.gz\n",
      "/pub/data/noaa/1994/722880-23152-1994.gz\n",
      "/pub/data/noaa/1995/722880-23152-1995.gz\n",
      "/pub/data/noaa/1996/722880-23152-1996.gz\n",
      "/pub/data/noaa/1997/722880-23152-1997.gz\n",
      "/pub/data/noaa/1998/722880-23152-1998.gz\n",
      "/pub/data/noaa/1999/722880-23152-1999.gz\n",
      "/pub/data/noaa/2000/722880-23152-2000.gz\n",
      "/pub/data/noaa/2001/722880-23152-2001.gz\n",
      "/pub/data/noaa/2002/722880-23152-2002.gz\n",
      "/pub/data/noaa/2003/722880-23152-2003.gz\n",
      "/pub/data/noaa/2004/722880-23152-2004.gz\n"
     ]
    },
    {
     "name": "stderr",
     "output_type": "stream",
     "text": [
      "WARNING:root:unable to load report, error: Non matching lengths. Expected 1391, got 1346\n",
      "WARNING:root:unable to load report, error: Non matching lengths. Expected 1425, got 1348\n",
      "WARNING:root:unable to load report, error: Non matching lengths. Expected 1441, got 1348\n",
      "WARNING:root:unable to load report, error: Non matching lengths. Expected 1439, got 1346\n",
      "WARNING:root:unable to load report, error: Non matching lengths. Expected 866, got 853\n",
      "WARNING:root:unable to load report, error: Non matching lengths. Expected 850, got 837\n",
      "WARNING:root:unable to load report, error: Non matching lengths. Expected 1457, got 1348\n",
      "WARNING:root:unable to load report, error: Non matching lengths. Expected 1407, got 1346\n"
     ]
    },
    {
     "name": "stdout",
     "output_type": "stream",
     "text": [
      "/pub/data/noaa/2005/722880-23152-2005.gz\n",
      "/pub/data/noaa/2006/722880-23152-2006.gz\n",
      "/pub/data/noaa/2007/722880-23152-2007.gz\n",
      "/pub/data/noaa/2008/722880-23152-2008.gz\n",
      "/pub/data/noaa/2009/722880-23152-2009.gz\n",
      "/pub/data/noaa/2010/722880-23152-2010.gz\n",
      "/pub/data/noaa/2011/722880-23152-2011.gz\n",
      "/pub/data/noaa/2012/722880-23152-2012.gz\n",
      "/pub/data/noaa/2013/722880-23152-2013.gz\n",
      "/pub/data/noaa/2014/722880-23152-2014.gz\n",
      "/pub/data/noaa/2015/722880-23152-2015.gz\n",
      "/pub/data/noaa/2016/722880-23152-2016.gz\n",
      "/pub/data/noaa/2017/722880-23152-2017.gz\n",
      "444437 records\n",
      "Saving station data to: '../data/temperatures/ISD/722880-23152-AT.h5'\n",
      "#### 722880 99999 range(2000, 2004)\n",
      "/pub/data/noaa/2000/722880-99999-2000.gz\n",
      "/pub/data/noaa/2001/722880-99999-2001.gz\n",
      "/pub/data/noaa/2002/722880-99999-2002.gz\n",
      "/pub/data/noaa/2003/722880-99999-2003.gz\n",
      "37887 records\n",
      "Saving station data to: '../data/temperatures/ISD/722880-99999-AT.h5'\n",
      "#### 999999 23152 range(1948, 1970)\n",
      "/pub/data/noaa/1948/999999-23152-1948.gz\n",
      "/pub/data/noaa/1949/999999-23152-1949.gz\n",
      "/pub/data/noaa/1950/999999-23152-1950.gz\n",
      "/pub/data/noaa/1951/999999-23152-1951.gz\n",
      "/pub/data/noaa/1952/999999-23152-1952.gz\n",
      "/pub/data/noaa/1953/999999-23152-1953.gz\n",
      "/pub/data/noaa/1954/999999-23152-1954.gz\n",
      "/pub/data/noaa/1955/999999-23152-1955.gz\n",
      "/pub/data/noaa/1956/999999-23152-1956.gz\n",
      "/pub/data/noaa/1957/999999-23152-1957.gz\n",
      "/pub/data/noaa/1958/999999-23152-1958.gz\n",
      "/pub/data/noaa/1959/999999-23152-1959.gz\n",
      "/pub/data/noaa/1960/999999-23152-1960.gz\n",
      "/pub/data/noaa/1961/999999-23152-1961.gz\n",
      "/pub/data/noaa/1962/999999-23152-1962.gz\n",
      "/pub/data/noaa/1963/999999-23152-1963.gz\n",
      "/pub/data/noaa/1964/999999-23152-1964.gz\n",
      "/pub/data/noaa/1965/999999-23152-1965.gz\n",
      "/pub/data/noaa/1966/999999-23152-1966.gz\n",
      "/pub/data/noaa/1967/999999-23152-1967.gz\n",
      "/pub/data/noaa/1968/999999-23152-1968.gz\n",
      "/pub/data/noaa/1969/999999-23152-1969.gz\n",
      "160682 records\n",
      "Saving station data to: '../data/temperatures/ISD/999999-23152-AT.h5'\n",
      "Saving combined data to: 'KBUR_AT.h5'\n",
      "CPU times: user 1min 9s, sys: 1.84 s, total: 1min 10s\n",
      "Wall time: 4min 49s\n",
      "Cleaning temperature data for  KBUR\n",
      "686 duplicates\n",
      "removing 159 points\n",
      "removing 30 points\n",
      "removing 6 points\n",
      "removing 0 points\n",
      "# Potentially problematic gaps: 462\n",
      "Saving cleaned temp data to: ../data/temperatures/KBUR_AT_cleaned\n"
     ]
    }
   ],
   "source": [
    "for STATION_CALLSIGN, LOCAL_TIME_OFFSET, START_DATE, END_DATE in RUNSETS:\n",
    "    SUBNOTEBOOK_FLAG = True\n",
    "    DATADIR = TEMPERATURE_DATADIR\n",
    "    OUTDIR = TEMPERATURE_OUTDIR\n",
    "    %run -i \"Fetching and parsing ISH.ipynb\"\n",
    "    %run -i \"Cleaning temperatures.ipynb\""
   ]
  },
  {
   "cell_type": "code",
   "execution_count": null,
   "metadata": {
    "collapsed": true
   },
   "outputs": [],
   "source": []
  },
  {
   "cell_type": "markdown",
   "metadata": {},
   "source": [
    "## prepare temperature CSV for MedFoes input\n"
   ]
  },
  {
   "cell_type": "code",
   "execution_count": 4,
   "metadata": {
    "collapsed": false
   },
   "outputs": [
    {
     "name": "stdout",
     "output_type": "stream",
     "text": [
      "Saving KBUR 1973-01-01 00:00:00-08:00 to 2017-08-19 15:00:00-08:00 : ../data/temperatures/KBUR_AT_cleaned_trimmed.csv\n"
     ]
    }
   ],
   "source": [
    "for RUNSET, LOCAL_TIME_OFFSET, START_DATE, END_DATE in RUNSETS:\n",
    "    \n",
    "    # convert from UTC to a *fixed offset* approximating local (solar time would be better, but this is good enough)\n",
    "    # Note: not just the local timezone, because daylight-savings time is a pointless complication\n",
    "    # convert the LOCAL_TIME_OFFSET string to number of seconds\n",
    "    tmp = LOCAL_TIME_OFFSET.split(':')\n",
    "    tmp = int(tmp[0])*3600+int(tmp[1])*60\n",
    "    # create a timezone offset\n",
    "    sitetz = dateutil.tz.tzoffset(LOCAL_TIME_OFFSET, tmp)\n",
    "    \n",
    "    ## Load Temperature data\n",
    "    tfile = os.path.join(TEMPERATURE_OUTDIR, \"{}_AT_cleaned.h5\".format(RUNSET))\n",
    "    tempdf = pd.read_hdf(tfile, 'table')\n",
    "    # apply the timezone conversion\n",
    "    tempdf.index = tempdf.index.tz_convert(sitetz)\n",
    "\n",
    "    ## Save the desired date range as a CSV file\n",
    "    # note: the date ranges were determined by inspecting the full temperature data\n",
    "    # and excluding problematic early dates (big gaps, lots of outliers, ect.)\n",
    "    outfn = os.path.join(TEMPERATURE_OUTDIR, \"{}_AT_cleaned_trimmed\".format(RUNSET))\n",
    "    t = tempdf.loc[START_DATE:]\n",
    "    print(\"Saving {} {} to {} : {}.csv\".format(RUNSET, t.index[0], t.index[-1], outfn))\n",
    "    t.to_csv(outfn+'.csv', index_label='datetime')"
   ]
  },
  {
   "cell_type": "code",
   "execution_count": null,
   "metadata": {
    "collapsed": true
   },
   "outputs": [],
   "source": []
  }
 ],
 "metadata": {
  "celltoolbar": "Raw Cell Format",
  "kernelspec": {
   "display_name": "Python [conda root]",
   "language": "python",
   "name": "conda-root-py"
  },
  "language_info": {
   "codemirror_mode": {
    "name": "ipython",
    "version": 3
   },
   "file_extension": ".py",
   "mimetype": "text/x-python",
   "name": "python",
   "nbconvert_exporter": "python",
   "pygments_lexer": "ipython3",
   "version": "3.5.2"
  }
 },
 "nbformat": 4,
 "nbformat_minor": 2
}
